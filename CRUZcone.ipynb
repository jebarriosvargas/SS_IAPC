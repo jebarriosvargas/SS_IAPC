{
 "cells": [
  {
   "cell_type": "markdown",
   "metadata": {},
   "source": [
    "# Producto cruz de dos vectores"
   ]
  },
  {
   "cell_type": "markdown",
   "metadata": {},
   "source": [
    "Consideremos dos vectores, $\\vec{P}$ y $\\vec{Q}$, de los cuales conocemos sus componentes cartesianas. Es decir, tenemos que\n",
    "\n",
    "\\begin{align*}\n",
    "\\vec{P} = (P_x,P_y,P_z)\\,,\n",
    "\\end{align*}\n",
    "\n",
    "\\begin{align*}\n",
    "\\vec{Q} = (Q_x,Q_y,Q_z)\\,.\n",
    "\\end{align*}\n",
    "\n",
    "Alternativamente, podemos escribir $\\vec{P} = P_x\\hat{\\imath}+P_y\\hat{\\jmath}+P_z\\hat{k}$ y $\\vec{Q} = Q_x\\hat{\\imath}+Q_y\\hat{\\jmath}+Q_z\\hat{k}$; donde $\\hat{\\imath}$, $\\hat{\\jmath}$ y $\\hat{k}$ son los vectores unitarios en la dirección de $X$, $Y$ y $Z$ respectivamente.\n",
    "\n",
    "El producto cruz de dos vectores da como resultado otro vector, $\\vec{R}=\\vec{P}\\times\\vec{Q}$, tal que es perpendicular a los otros dos vectores y cuya norma es igual al área del paralelogramo formado por los vectores $\\vec{P}$ y $\\vec{Q}$. La elección de la dirección perpendicular sigue la regla de la mano derecha.\n",
    "\n",
    "Las componentes del vector resultante del producto cruz pueden obtenerse calculando el siguiente determinante,\n",
    "\\begin{align*}\n",
    "\\vec{R} =& \\left| \\begin{array}{ccc} \n",
    "\\hat{\\imath} & \\hat{\\jmath} & \\hat{k} \\\\\n",
    "P_x & P_y & P_z \\\\\n",
    "Q_x & Q_y & Q_z \n",
    "\\end{array} \\right|\\\\\n",
    "=& \n",
    "\\left|\\begin{array}{cc}\n",
    "P_y&P_z\\\\\n",
    "Q_y&Q_z\n",
    "\\end{array}\\right| \\hat{\\imath}\n",
    "-\\left|\\begin{array}{cc}\n",
    "P_x&P_z\\\\\n",
    "Q_x&Q_z\n",
    "\\end{array}\\right|\\hat{\\jmath}\n",
    "+\\left|\\begin{array}{cc}\n",
    "P_x&P_y\\\\\n",
    "Q_x&Q_y\n",
    "\\end{array}\\right|\\hat{k}\\\\\n",
    "=& (P_yQ_z-P_zQ_y)\\hat{\\imath}\n",
    "-(P_xQ_z-P_zQ_x)\\hat{\\jmath}\n",
    "+(P_xQ_y-P_yQ_x)\\hat{k}\n",
    "\\end{align*}\n",
    "\n",
    "Alternativamente podemos escribir el vector $\\vec{R}$ por:\n",
    "\\begin{align*}\n",
    "\\vec{R} = \\big( P_yQ_z-P_zQ_y, P_zQ_x-P_xQ_z, P_xQ_y-P_yQ_x\\big)\n",
    "\\end{align*}\n",
    "\n",
    "A continuación se muestra el producto cruz tomando como ejemplo los siguiente vectores:\n",
    "\n",
    "\\begin{align*}\n",
    "\\vec{P}&=(2,1,-3)\\\\\n",
    "\\vec{Q}&=(-1,2,2)\\\\\n",
    "\\vec{R}&=\\big( 1\\cdot2-(-3)\\cdot2 ,\\; (-3)\\cdot(-1)-2\\cdot2,\\; 2\\cdot2-1\\cdot(-1) \\big)\\\\\n",
    "&=(2+6,\\;3-4,\\;4+1)\\\\\n",
    "&=(8,-1,5)\n",
    "\\end{align*}\n",
    "\n",
    "En el gráfico siguiente note que el vector $\\vec{R}$ sigue la regla de la mano derecha."
   ]
  },
  {
   "cell_type": "code",
   "execution_count": 14,
   "metadata": {
    "tags": [
     "hide-cell"
    ]
   },
   "outputs": [],
   "source": [
    "from pylab import *\n",
    "import plotly.graph_objects as go"
   ]
  },
  {
   "cell_type": "code",
   "execution_count": 15,
   "metadata": {},
   "outputs": [],
   "source": [
    "P = array( [ 2,1,-3] )\n",
    "Q = array( [-1,2,2] )\n",
    "R = cross(P,Q)"
   ]
  },
  {
   "cell_type": "code",
   "execution_count": 16,
   "metadata": {
    "scrolled": false,
    "tags": [
     "hide-input"
    ]
   },
   "outputs": [
    {
     "data": {
      "application/vnd.plotly.v1+json": {
       "config": {
        "plotlyServerURL": "https://plot.ly"
       },
       "data": [
        {
         "anchor": "tip",
         "colorscale": [
          [
           0,
           "rgba(255, 210, 0, 60)"
          ],
          [
           1,
           "rgba(255, 210, 0, 60)"
          ]
         ],
         "showscale": false,
         "sizemode": "absolute",
         "sizeref": 0.1,
         "type": "cone",
         "u": [
          1,
          0,
          0
         ],
         "v": [
          0,
          1,
          0
         ],
         "w": [
          0,
          0,
          1
         ],
         "x": [
          8.8,
          0,
          0
         ],
         "y": [
          0,
          8.8,
          0
         ],
         "z": [
          0,
          0,
          8.8
         ]
        },
        {
         "line": {
          "color": "rgba(255, 210, 0, 60)",
          "width": 6
         },
         "mode": "lines",
         "showlegend": false,
         "type": "scatter3d",
         "x": [
          -3.3000000000000003,
          7.800000000000001
         ],
         "y": [
          0,
          0
         ],
         "z": [
          0,
          0
         ]
        },
        {
         "line": {
          "color": "rgba(255, 210, 0, 60)",
          "width": 6
         },
         "mode": "lines",
         "showlegend": false,
         "type": "scatter3d",
         "x": [
          0,
          0
         ],
         "y": [
          -3.3000000000000003,
          7.800000000000001
         ],
         "z": [
          0,
          0
         ]
        },
        {
         "line": {
          "color": "rgba(255, 210, 0, 60)",
          "width": 6
         },
         "mode": "lines",
         "showlegend": false,
         "type": "scatter3d",
         "x": [
          0,
          0
         ],
         "y": [
          0,
          0
         ],
         "z": [
          -3.3000000000000003,
          7.800000000000001
         ]
        },
        {
         "anchor": "tip",
         "colorscale": [
          [
           0,
           "rgba(0, 191, 255, 60)"
          ],
          [
           1,
           "rgba(0, 191, 255, 60)"
          ]
         ],
         "showscale": false,
         "sizemode": "absolute",
         "sizeref": 1,
         "type": "cone",
         "u": [
          0.5345224838248488
         ],
         "v": [
          0.2672612419124244
         ],
         "w": [
          -0.8017837257372732
         ],
         "x": [
          2
         ],
         "y": [
          1
         ],
         "z": [
          -3
         ]
        },
        {
         "line": {
          "color": "rgba(0, 191, 255, 60)",
          "width": 10
         },
         "mode": "lines",
         "showlegend": false,
         "type": "scatter3d",
         "x": [
          0,
          1.4654775161751512
         ],
         "y": [
          0,
          0.7327387580875756
         ],
         "z": [
          0,
          -2.1982162742627267
         ]
        },
        {
         "anchor": "tip",
         "colorscale": [
          [
           0,
           "rgba(238, 130, 238, 60)"
          ],
          [
           1,
           "rgba(238, 130, 238, 60)"
          ]
         ],
         "showscale": false,
         "sizemode": "absolute",
         "sizeref": 1,
         "type": "cone",
         "u": [
          -0.3333333333333333
         ],
         "v": [
          0.6666666666666666
         ],
         "w": [
          0.6666666666666666
         ],
         "x": [
          -1
         ],
         "y": [
          2
         ],
         "z": [
          2
         ]
        },
        {
         "line": {
          "color": "rgba(238, 130, 238, 60)",
          "width": 10
         },
         "mode": "lines",
         "showlegend": false,
         "type": "scatter3d",
         "x": [
          0,
          -0.6666666666666667
         ],
         "y": [
          0,
          1.3333333333333335
         ],
         "z": [
          0,
          1.3333333333333335
         ]
        },
        {
         "anchor": "tip",
         "colorscale": [
          [
           0,
           "rgba(255, 255, 255, 60)"
          ],
          [
           1,
           "rgba(255, 255, 255, 60)"
          ]
         ],
         "showscale": false,
         "sizemode": "absolute",
         "sizeref": 1,
         "type": "cone",
         "u": [
          0.8432740427115678
         ],
         "v": [
          -0.10540925533894598
         ],
         "w": [
          0.5270462766947299
         ],
         "x": [
          8
         ],
         "y": [
          -1
         ],
         "z": [
          5
         ]
        },
        {
         "line": {
          "color": "rgba(255, 255, 255, 60)",
          "width": 10
         },
         "mode": "lines",
         "showlegend": false,
         "type": "scatter3d",
         "x": [
          0,
          7.156725957288432
         ],
         "y": [
          0,
          -0.894590744661054
         ],
         "z": [
          0,
          4.47295372330527
         ]
        }
       ],
       "layout": {
        "height": 600,
        "scene": {
         "annotations": [
          {
           "font": {
            "color": "rgba(255, 210, 0, 60)",
            "size": 40
           },
           "opacity": 1,
           "showarrow": false,
           "text": "$X$",
           "x": 8.8,
           "xanchor": "left",
           "xshift": 0,
           "y": 0.2,
           "z": 0.2
          },
          {
           "font": {
            "color": "rgba(255, 210, 0, 60)",
            "size": 40
           },
           "opacity": 1,
           "showarrow": false,
           "text": "$Y$",
           "x": 0.2,
           "xanchor": "left",
           "xshift": 0,
           "y": 8.8,
           "z": 0.2
          },
          {
           "font": {
            "color": "rgba(255, 210, 0, 60)",
            "size": 40
           },
           "opacity": 1,
           "showarrow": false,
           "text": "$Z$",
           "x": 0.2,
           "xanchor": "left",
           "xshift": 0,
           "y": 0.2,
           "z": 8.8
          },
          {
           "font": {
            "color": "rgba(0, 191, 255, 60)",
            "size": 50
           },
           "opacity": 1,
           "showarrow": false,
           "text": "$\\vec{P}$",
           "x": 2.2,
           "xanchor": "center",
           "y": 1.2,
           "z": -2.8
          },
          {
           "font": {
            "color": "rgba(238, 130, 238, 60)",
            "size": 50
           },
           "opacity": 1,
           "showarrow": false,
           "text": "$\\vec{Q}$",
           "x": -0.8,
           "xanchor": "center",
           "y": 2.2,
           "z": 2.2
          },
          {
           "font": {
            "color": "rgba(255, 255, 255, 60)",
            "size": 60
           },
           "opacity": 1,
           "showarrow": false,
           "text": "$\\vec{R}=(8.0,-1.0,5.0)$",
           "x": 7.465477516175151,
           "xanchor": "center",
           "y": -1.2672612419124243,
           "z": 5.801783725737273
          }
         ],
         "camera": {
          "eye": {
           "x": 1.5,
           "y": 0.8,
           "z": 0.6
          }
         },
         "xaxis": {
          "nticks": 0,
          "range": [
           -3.3000000000000003,
           8.8
          ],
          "ticktext": [
           ""
          ],
          "tickvals": [
           0
          ],
          "title": {
           "text": ""
          },
          "visible": false
         },
         "yaxis": {
          "nticks": 0,
          "range": [
           -3.3000000000000003,
           8.8
          ],
          "ticktext": [
           ""
          ],
          "tickvals": [
           0
          ],
          "title": {
           "text": ""
          },
          "visible": false
         },
         "zaxis": {
          "nticks": 0,
          "range": [
           -3.3000000000000003,
           8.8
          ],
          "ticktext": [
           ""
          ],
          "tickvals": [
           0
          ],
          "title": {
           "text": ""
          },
          "visible": false
         }
        },
        "template": {
         "data": {
          "bar": [
           {
            "error_x": {
             "color": "#f2f5fa"
            },
            "error_y": {
             "color": "#f2f5fa"
            },
            "marker": {
             "line": {
              "color": "rgb(17,17,17)",
              "width": 0.5
             },
             "pattern": {
              "fillmode": "overlay",
              "size": 10,
              "solidity": 0.2
             }
            },
            "type": "bar"
           }
          ],
          "barpolar": [
           {
            "marker": {
             "line": {
              "color": "rgb(17,17,17)",
              "width": 0.5
             },
             "pattern": {
              "fillmode": "overlay",
              "size": 10,
              "solidity": 0.2
             }
            },
            "type": "barpolar"
           }
          ],
          "carpet": [
           {
            "aaxis": {
             "endlinecolor": "#A2B1C6",
             "gridcolor": "#506784",
             "linecolor": "#506784",
             "minorgridcolor": "#506784",
             "startlinecolor": "#A2B1C6"
            },
            "baxis": {
             "endlinecolor": "#A2B1C6",
             "gridcolor": "#506784",
             "linecolor": "#506784",
             "minorgridcolor": "#506784",
             "startlinecolor": "#A2B1C6"
            },
            "type": "carpet"
           }
          ],
          "choropleth": [
           {
            "colorbar": {
             "outlinewidth": 0,
             "ticks": ""
            },
            "type": "choropleth"
           }
          ],
          "contour": [
           {
            "colorbar": {
             "outlinewidth": 0,
             "ticks": ""
            },
            "colorscale": [
             [
              0,
              "#0d0887"
             ],
             [
              0.1111111111111111,
              "#46039f"
             ],
             [
              0.2222222222222222,
              "#7201a8"
             ],
             [
              0.3333333333333333,
              "#9c179e"
             ],
             [
              0.4444444444444444,
              "#bd3786"
             ],
             [
              0.5555555555555556,
              "#d8576b"
             ],
             [
              0.6666666666666666,
              "#ed7953"
             ],
             [
              0.7777777777777778,
              "#fb9f3a"
             ],
             [
              0.8888888888888888,
              "#fdca26"
             ],
             [
              1,
              "#f0f921"
             ]
            ],
            "type": "contour"
           }
          ],
          "contourcarpet": [
           {
            "colorbar": {
             "outlinewidth": 0,
             "ticks": ""
            },
            "type": "contourcarpet"
           }
          ],
          "heatmap": [
           {
            "colorbar": {
             "outlinewidth": 0,
             "ticks": ""
            },
            "colorscale": [
             [
              0,
              "#0d0887"
             ],
             [
              0.1111111111111111,
              "#46039f"
             ],
             [
              0.2222222222222222,
              "#7201a8"
             ],
             [
              0.3333333333333333,
              "#9c179e"
             ],
             [
              0.4444444444444444,
              "#bd3786"
             ],
             [
              0.5555555555555556,
              "#d8576b"
             ],
             [
              0.6666666666666666,
              "#ed7953"
             ],
             [
              0.7777777777777778,
              "#fb9f3a"
             ],
             [
              0.8888888888888888,
              "#fdca26"
             ],
             [
              1,
              "#f0f921"
             ]
            ],
            "type": "heatmap"
           }
          ],
          "heatmapgl": [
           {
            "colorbar": {
             "outlinewidth": 0,
             "ticks": ""
            },
            "colorscale": [
             [
              0,
              "#0d0887"
             ],
             [
              0.1111111111111111,
              "#46039f"
             ],
             [
              0.2222222222222222,
              "#7201a8"
             ],
             [
              0.3333333333333333,
              "#9c179e"
             ],
             [
              0.4444444444444444,
              "#bd3786"
             ],
             [
              0.5555555555555556,
              "#d8576b"
             ],
             [
              0.6666666666666666,
              "#ed7953"
             ],
             [
              0.7777777777777778,
              "#fb9f3a"
             ],
             [
              0.8888888888888888,
              "#fdca26"
             ],
             [
              1,
              "#f0f921"
             ]
            ],
            "type": "heatmapgl"
           }
          ],
          "histogram": [
           {
            "marker": {
             "pattern": {
              "fillmode": "overlay",
              "size": 10,
              "solidity": 0.2
             }
            },
            "type": "histogram"
           }
          ],
          "histogram2d": [
           {
            "colorbar": {
             "outlinewidth": 0,
             "ticks": ""
            },
            "colorscale": [
             [
              0,
              "#0d0887"
             ],
             [
              0.1111111111111111,
              "#46039f"
             ],
             [
              0.2222222222222222,
              "#7201a8"
             ],
             [
              0.3333333333333333,
              "#9c179e"
             ],
             [
              0.4444444444444444,
              "#bd3786"
             ],
             [
              0.5555555555555556,
              "#d8576b"
             ],
             [
              0.6666666666666666,
              "#ed7953"
             ],
             [
              0.7777777777777778,
              "#fb9f3a"
             ],
             [
              0.8888888888888888,
              "#fdca26"
             ],
             [
              1,
              "#f0f921"
             ]
            ],
            "type": "histogram2d"
           }
          ],
          "histogram2dcontour": [
           {
            "colorbar": {
             "outlinewidth": 0,
             "ticks": ""
            },
            "colorscale": [
             [
              0,
              "#0d0887"
             ],
             [
              0.1111111111111111,
              "#46039f"
             ],
             [
              0.2222222222222222,
              "#7201a8"
             ],
             [
              0.3333333333333333,
              "#9c179e"
             ],
             [
              0.4444444444444444,
              "#bd3786"
             ],
             [
              0.5555555555555556,
              "#d8576b"
             ],
             [
              0.6666666666666666,
              "#ed7953"
             ],
             [
              0.7777777777777778,
              "#fb9f3a"
             ],
             [
              0.8888888888888888,
              "#fdca26"
             ],
             [
              1,
              "#f0f921"
             ]
            ],
            "type": "histogram2dcontour"
           }
          ],
          "mesh3d": [
           {
            "colorbar": {
             "outlinewidth": 0,
             "ticks": ""
            },
            "type": "mesh3d"
           }
          ],
          "parcoords": [
           {
            "line": {
             "colorbar": {
              "outlinewidth": 0,
              "ticks": ""
             }
            },
            "type": "parcoords"
           }
          ],
          "pie": [
           {
            "automargin": true,
            "type": "pie"
           }
          ],
          "scatter": [
           {
            "marker": {
             "line": {
              "color": "#283442"
             }
            },
            "type": "scatter"
           }
          ],
          "scatter3d": [
           {
            "line": {
             "colorbar": {
              "outlinewidth": 0,
              "ticks": ""
             }
            },
            "marker": {
             "colorbar": {
              "outlinewidth": 0,
              "ticks": ""
             }
            },
            "type": "scatter3d"
           }
          ],
          "scattercarpet": [
           {
            "marker": {
             "colorbar": {
              "outlinewidth": 0,
              "ticks": ""
             }
            },
            "type": "scattercarpet"
           }
          ],
          "scattergeo": [
           {
            "marker": {
             "colorbar": {
              "outlinewidth": 0,
              "ticks": ""
             }
            },
            "type": "scattergeo"
           }
          ],
          "scattergl": [
           {
            "marker": {
             "line": {
              "color": "#283442"
             }
            },
            "type": "scattergl"
           }
          ],
          "scattermapbox": [
           {
            "marker": {
             "colorbar": {
              "outlinewidth": 0,
              "ticks": ""
             }
            },
            "type": "scattermapbox"
           }
          ],
          "scatterpolar": [
           {
            "marker": {
             "colorbar": {
              "outlinewidth": 0,
              "ticks": ""
             }
            },
            "type": "scatterpolar"
           }
          ],
          "scatterpolargl": [
           {
            "marker": {
             "colorbar": {
              "outlinewidth": 0,
              "ticks": ""
             }
            },
            "type": "scatterpolargl"
           }
          ],
          "scatterternary": [
           {
            "marker": {
             "colorbar": {
              "outlinewidth": 0,
              "ticks": ""
             }
            },
            "type": "scatterternary"
           }
          ],
          "surface": [
           {
            "colorbar": {
             "outlinewidth": 0,
             "ticks": ""
            },
            "colorscale": [
             [
              0,
              "#0d0887"
             ],
             [
              0.1111111111111111,
              "#46039f"
             ],
             [
              0.2222222222222222,
              "#7201a8"
             ],
             [
              0.3333333333333333,
              "#9c179e"
             ],
             [
              0.4444444444444444,
              "#bd3786"
             ],
             [
              0.5555555555555556,
              "#d8576b"
             ],
             [
              0.6666666666666666,
              "#ed7953"
             ],
             [
              0.7777777777777778,
              "#fb9f3a"
             ],
             [
              0.8888888888888888,
              "#fdca26"
             ],
             [
              1,
              "#f0f921"
             ]
            ],
            "type": "surface"
           }
          ],
          "table": [
           {
            "cells": {
             "fill": {
              "color": "#506784"
             },
             "line": {
              "color": "rgb(17,17,17)"
             }
            },
            "header": {
             "fill": {
              "color": "#2a3f5f"
             },
             "line": {
              "color": "rgb(17,17,17)"
             }
            },
            "type": "table"
           }
          ]
         },
         "layout": {
          "annotationdefaults": {
           "arrowcolor": "#f2f5fa",
           "arrowhead": 0,
           "arrowwidth": 1
          },
          "autotypenumbers": "strict",
          "coloraxis": {
           "colorbar": {
            "outlinewidth": 0,
            "ticks": ""
           }
          },
          "colorscale": {
           "diverging": [
            [
             0,
             "#8e0152"
            ],
            [
             0.1,
             "#c51b7d"
            ],
            [
             0.2,
             "#de77ae"
            ],
            [
             0.3,
             "#f1b6da"
            ],
            [
             0.4,
             "#fde0ef"
            ],
            [
             0.5,
             "#f7f7f7"
            ],
            [
             0.6,
             "#e6f5d0"
            ],
            [
             0.7,
             "#b8e186"
            ],
            [
             0.8,
             "#7fbc41"
            ],
            [
             0.9,
             "#4d9221"
            ],
            [
             1,
             "#276419"
            ]
           ],
           "sequential": [
            [
             0,
             "#0d0887"
            ],
            [
             0.1111111111111111,
             "#46039f"
            ],
            [
             0.2222222222222222,
             "#7201a8"
            ],
            [
             0.3333333333333333,
             "#9c179e"
            ],
            [
             0.4444444444444444,
             "#bd3786"
            ],
            [
             0.5555555555555556,
             "#d8576b"
            ],
            [
             0.6666666666666666,
             "#ed7953"
            ],
            [
             0.7777777777777778,
             "#fb9f3a"
            ],
            [
             0.8888888888888888,
             "#fdca26"
            ],
            [
             1,
             "#f0f921"
            ]
           ],
           "sequentialminus": [
            [
             0,
             "#0d0887"
            ],
            [
             0.1111111111111111,
             "#46039f"
            ],
            [
             0.2222222222222222,
             "#7201a8"
            ],
            [
             0.3333333333333333,
             "#9c179e"
            ],
            [
             0.4444444444444444,
             "#bd3786"
            ],
            [
             0.5555555555555556,
             "#d8576b"
            ],
            [
             0.6666666666666666,
             "#ed7953"
            ],
            [
             0.7777777777777778,
             "#fb9f3a"
            ],
            [
             0.8888888888888888,
             "#fdca26"
            ],
            [
             1,
             "#f0f921"
            ]
           ]
          },
          "colorway": [
           "#636efa",
           "#EF553B",
           "#00cc96",
           "#ab63fa",
           "#FFA15A",
           "#19d3f3",
           "#FF6692",
           "#B6E880",
           "#FF97FF",
           "#FECB52"
          ],
          "font": {
           "color": "#f2f5fa"
          },
          "geo": {
           "bgcolor": "rgb(17,17,17)",
           "lakecolor": "rgb(17,17,17)",
           "landcolor": "rgb(17,17,17)",
           "showlakes": true,
           "showland": true,
           "subunitcolor": "#506784"
          },
          "hoverlabel": {
           "align": "left"
          },
          "hovermode": "closest",
          "mapbox": {
           "style": "dark"
          },
          "paper_bgcolor": "rgb(17,17,17)",
          "plot_bgcolor": "rgb(17,17,17)",
          "polar": {
           "angularaxis": {
            "gridcolor": "#506784",
            "linecolor": "#506784",
            "ticks": ""
           },
           "bgcolor": "rgb(17,17,17)",
           "radialaxis": {
            "gridcolor": "#506784",
            "linecolor": "#506784",
            "ticks": ""
           }
          },
          "scene": {
           "xaxis": {
            "backgroundcolor": "rgb(17,17,17)",
            "gridcolor": "#506784",
            "gridwidth": 2,
            "linecolor": "#506784",
            "showbackground": true,
            "ticks": "",
            "zerolinecolor": "#C8D4E3"
           },
           "yaxis": {
            "backgroundcolor": "rgb(17,17,17)",
            "gridcolor": "#506784",
            "gridwidth": 2,
            "linecolor": "#506784",
            "showbackground": true,
            "ticks": "",
            "zerolinecolor": "#C8D4E3"
           },
           "zaxis": {
            "backgroundcolor": "rgb(17,17,17)",
            "gridcolor": "#506784",
            "gridwidth": 2,
            "linecolor": "#506784",
            "showbackground": true,
            "ticks": "",
            "zerolinecolor": "#C8D4E3"
           }
          },
          "shapedefaults": {
           "line": {
            "color": "#f2f5fa"
           }
          },
          "sliderdefaults": {
           "bgcolor": "#C8D4E3",
           "bordercolor": "rgb(17,17,17)",
           "borderwidth": 1,
           "tickwidth": 0
          },
          "ternary": {
           "aaxis": {
            "gridcolor": "#506784",
            "linecolor": "#506784",
            "ticks": ""
           },
           "baxis": {
            "gridcolor": "#506784",
            "linecolor": "#506784",
            "ticks": ""
           },
           "bgcolor": "rgb(17,17,17)",
           "caxis": {
            "gridcolor": "#506784",
            "linecolor": "#506784",
            "ticks": ""
           }
          },
          "title": {
           "x": 0.05
          },
          "updatemenudefaults": {
           "bgcolor": "#506784",
           "borderwidth": 0
          },
          "xaxis": {
           "automargin": true,
           "gridcolor": "#283442",
           "linecolor": "#506784",
           "ticks": "",
           "title": {
            "standoff": 15
           },
           "zerolinecolor": "#283442",
           "zerolinewidth": 2
          },
          "yaxis": {
           "automargin": true,
           "gridcolor": "#283442",
           "linecolor": "#506784",
           "ticks": "",
           "title": {
            "standoff": 15
           },
           "zerolinecolor": "#283442",
           "zerolinewidth": 2
          }
         }
        },
        "width": 600
       }
      },
      "text/html": [
       "<div>                            <div id=\"0e858557-0aef-4281-8580-e9e4f7325775\" class=\"plotly-graph-div\" style=\"height:600px; width:600px;\"></div>            <script type=\"text/javascript\">                require([\"plotly\"], function(Plotly) {                    window.PLOTLYENV=window.PLOTLYENV || {};                                    if (document.getElementById(\"0e858557-0aef-4281-8580-e9e4f7325775\")) {                    Plotly.newPlot(                        \"0e858557-0aef-4281-8580-e9e4f7325775\",                        [{\"anchor\":\"tip\",\"colorscale\":[[0,\"rgba(255, 210, 0, 60)\"],[1.0,\"rgba(255, 210, 0, 60)\"]],\"showscale\":false,\"sizemode\":\"absolute\",\"sizeref\":0.1,\"u\":[1.0,0,0],\"v\":[0,1.0,0],\"w\":[0,0,1.0],\"x\":[8.8,0,0],\"y\":[0,8.8,0],\"z\":[0,0,8.8],\"type\":\"cone\"},{\"line\":{\"color\":\"rgba(255, 210, 0, 60)\",\"width\":6},\"mode\":\"lines\",\"showlegend\":false,\"x\":[-3.3000000000000003,7.800000000000001],\"y\":[0,0],\"z\":[0,0],\"type\":\"scatter3d\"},{\"line\":{\"color\":\"rgba(255, 210, 0, 60)\",\"width\":6},\"mode\":\"lines\",\"showlegend\":false,\"x\":[0,0],\"y\":[-3.3000000000000003,7.800000000000001],\"z\":[0,0],\"type\":\"scatter3d\"},{\"line\":{\"color\":\"rgba(255, 210, 0, 60)\",\"width\":6},\"mode\":\"lines\",\"showlegend\":false,\"x\":[0,0],\"y\":[0,0],\"z\":[-3.3000000000000003,7.800000000000001],\"type\":\"scatter3d\"},{\"anchor\":\"tip\",\"colorscale\":[[0,\"rgba(0, 191, 255, 60)\"],[1.0,\"rgba(0, 191, 255, 60)\"]],\"showscale\":false,\"sizemode\":\"absolute\",\"sizeref\":1.0,\"u\":[0.5345224838248488],\"v\":[0.2672612419124244],\"w\":[-0.8017837257372732],\"x\":[2],\"y\":[1],\"z\":[-3],\"type\":\"cone\"},{\"line\":{\"color\":\"rgba(0, 191, 255, 60)\",\"width\":10},\"mode\":\"lines\",\"showlegend\":false,\"x\":[0,1.4654775161751512],\"y\":[0,0.7327387580875756],\"z\":[0,-2.1982162742627267],\"type\":\"scatter3d\"},{\"anchor\":\"tip\",\"colorscale\":[[0,\"rgba(238, 130, 238, 60)\"],[1.0,\"rgba(238, 130, 238, 60)\"]],\"showscale\":false,\"sizemode\":\"absolute\",\"sizeref\":1.0,\"u\":[-0.3333333333333333],\"v\":[0.6666666666666666],\"w\":[0.6666666666666666],\"x\":[-1],\"y\":[2],\"z\":[2],\"type\":\"cone\"},{\"line\":{\"color\":\"rgba(238, 130, 238, 60)\",\"width\":10},\"mode\":\"lines\",\"showlegend\":false,\"x\":[0,-0.6666666666666667],\"y\":[0,1.3333333333333335],\"z\":[0,1.3333333333333335],\"type\":\"scatter3d\"},{\"anchor\":\"tip\",\"colorscale\":[[0,\"rgba(255, 255, 255, 60)\"],[1.0,\"rgba(255, 255, 255, 60)\"]],\"showscale\":false,\"sizemode\":\"absolute\",\"sizeref\":1.0,\"u\":[0.8432740427115678],\"v\":[-0.10540925533894598],\"w\":[0.5270462766947299],\"x\":[8],\"y\":[-1],\"z\":[5],\"type\":\"cone\"},{\"line\":{\"color\":\"rgba(255, 255, 255, 60)\",\"width\":10},\"mode\":\"lines\",\"showlegend\":false,\"x\":[0,7.156725957288432],\"y\":[0,-0.894590744661054],\"z\":[0,4.47295372330527],\"type\":\"scatter3d\"}],                        {\"template\":{\"data\":{\"barpolar\":[{\"marker\":{\"line\":{\"color\":\"rgb(17,17,17)\",\"width\":0.5},\"pattern\":{\"fillmode\":\"overlay\",\"size\":10,\"solidity\":0.2}},\"type\":\"barpolar\"}],\"bar\":[{\"error_x\":{\"color\":\"#f2f5fa\"},\"error_y\":{\"color\":\"#f2f5fa\"},\"marker\":{\"line\":{\"color\":\"rgb(17,17,17)\",\"width\":0.5},\"pattern\":{\"fillmode\":\"overlay\",\"size\":10,\"solidity\":0.2}},\"type\":\"bar\"}],\"carpet\":[{\"aaxis\":{\"endlinecolor\":\"#A2B1C6\",\"gridcolor\":\"#506784\",\"linecolor\":\"#506784\",\"minorgridcolor\":\"#506784\",\"startlinecolor\":\"#A2B1C6\"},\"baxis\":{\"endlinecolor\":\"#A2B1C6\",\"gridcolor\":\"#506784\",\"linecolor\":\"#506784\",\"minorgridcolor\":\"#506784\",\"startlinecolor\":\"#A2B1C6\"},\"type\":\"carpet\"}],\"choropleth\":[{\"colorbar\":{\"outlinewidth\":0,\"ticks\":\"\"},\"type\":\"choropleth\"}],\"contourcarpet\":[{\"colorbar\":{\"outlinewidth\":0,\"ticks\":\"\"},\"type\":\"contourcarpet\"}],\"contour\":[{\"colorbar\":{\"outlinewidth\":0,\"ticks\":\"\"},\"colorscale\":[[0.0,\"#0d0887\"],[0.1111111111111111,\"#46039f\"],[0.2222222222222222,\"#7201a8\"],[0.3333333333333333,\"#9c179e\"],[0.4444444444444444,\"#bd3786\"],[0.5555555555555556,\"#d8576b\"],[0.6666666666666666,\"#ed7953\"],[0.7777777777777778,\"#fb9f3a\"],[0.8888888888888888,\"#fdca26\"],[1.0,\"#f0f921\"]],\"type\":\"contour\"}],\"heatmapgl\":[{\"colorbar\":{\"outlinewidth\":0,\"ticks\":\"\"},\"colorscale\":[[0.0,\"#0d0887\"],[0.1111111111111111,\"#46039f\"],[0.2222222222222222,\"#7201a8\"],[0.3333333333333333,\"#9c179e\"],[0.4444444444444444,\"#bd3786\"],[0.5555555555555556,\"#d8576b\"],[0.6666666666666666,\"#ed7953\"],[0.7777777777777778,\"#fb9f3a\"],[0.8888888888888888,\"#fdca26\"],[1.0,\"#f0f921\"]],\"type\":\"heatmapgl\"}],\"heatmap\":[{\"colorbar\":{\"outlinewidth\":0,\"ticks\":\"\"},\"colorscale\":[[0.0,\"#0d0887\"],[0.1111111111111111,\"#46039f\"],[0.2222222222222222,\"#7201a8\"],[0.3333333333333333,\"#9c179e\"],[0.4444444444444444,\"#bd3786\"],[0.5555555555555556,\"#d8576b\"],[0.6666666666666666,\"#ed7953\"],[0.7777777777777778,\"#fb9f3a\"],[0.8888888888888888,\"#fdca26\"],[1.0,\"#f0f921\"]],\"type\":\"heatmap\"}],\"histogram2dcontour\":[{\"colorbar\":{\"outlinewidth\":0,\"ticks\":\"\"},\"colorscale\":[[0.0,\"#0d0887\"],[0.1111111111111111,\"#46039f\"],[0.2222222222222222,\"#7201a8\"],[0.3333333333333333,\"#9c179e\"],[0.4444444444444444,\"#bd3786\"],[0.5555555555555556,\"#d8576b\"],[0.6666666666666666,\"#ed7953\"],[0.7777777777777778,\"#fb9f3a\"],[0.8888888888888888,\"#fdca26\"],[1.0,\"#f0f921\"]],\"type\":\"histogram2dcontour\"}],\"histogram2d\":[{\"colorbar\":{\"outlinewidth\":0,\"ticks\":\"\"},\"colorscale\":[[0.0,\"#0d0887\"],[0.1111111111111111,\"#46039f\"],[0.2222222222222222,\"#7201a8\"],[0.3333333333333333,\"#9c179e\"],[0.4444444444444444,\"#bd3786\"],[0.5555555555555556,\"#d8576b\"],[0.6666666666666666,\"#ed7953\"],[0.7777777777777778,\"#fb9f3a\"],[0.8888888888888888,\"#fdca26\"],[1.0,\"#f0f921\"]],\"type\":\"histogram2d\"}],\"histogram\":[{\"marker\":{\"pattern\":{\"fillmode\":\"overlay\",\"size\":10,\"solidity\":0.2}},\"type\":\"histogram\"}],\"mesh3d\":[{\"colorbar\":{\"outlinewidth\":0,\"ticks\":\"\"},\"type\":\"mesh3d\"}],\"parcoords\":[{\"line\":{\"colorbar\":{\"outlinewidth\":0,\"ticks\":\"\"}},\"type\":\"parcoords\"}],\"pie\":[{\"automargin\":true,\"type\":\"pie\"}],\"scatter3d\":[{\"line\":{\"colorbar\":{\"outlinewidth\":0,\"ticks\":\"\"}},\"marker\":{\"colorbar\":{\"outlinewidth\":0,\"ticks\":\"\"}},\"type\":\"scatter3d\"}],\"scattercarpet\":[{\"marker\":{\"colorbar\":{\"outlinewidth\":0,\"ticks\":\"\"}},\"type\":\"scattercarpet\"}],\"scattergeo\":[{\"marker\":{\"colorbar\":{\"outlinewidth\":0,\"ticks\":\"\"}},\"type\":\"scattergeo\"}],\"scattergl\":[{\"marker\":{\"line\":{\"color\":\"#283442\"}},\"type\":\"scattergl\"}],\"scattermapbox\":[{\"marker\":{\"colorbar\":{\"outlinewidth\":0,\"ticks\":\"\"}},\"type\":\"scattermapbox\"}],\"scatterpolargl\":[{\"marker\":{\"colorbar\":{\"outlinewidth\":0,\"ticks\":\"\"}},\"type\":\"scatterpolargl\"}],\"scatterpolar\":[{\"marker\":{\"colorbar\":{\"outlinewidth\":0,\"ticks\":\"\"}},\"type\":\"scatterpolar\"}],\"scatter\":[{\"marker\":{\"line\":{\"color\":\"#283442\"}},\"type\":\"scatter\"}],\"scatterternary\":[{\"marker\":{\"colorbar\":{\"outlinewidth\":0,\"ticks\":\"\"}},\"type\":\"scatterternary\"}],\"surface\":[{\"colorbar\":{\"outlinewidth\":0,\"ticks\":\"\"},\"colorscale\":[[0.0,\"#0d0887\"],[0.1111111111111111,\"#46039f\"],[0.2222222222222222,\"#7201a8\"],[0.3333333333333333,\"#9c179e\"],[0.4444444444444444,\"#bd3786\"],[0.5555555555555556,\"#d8576b\"],[0.6666666666666666,\"#ed7953\"],[0.7777777777777778,\"#fb9f3a\"],[0.8888888888888888,\"#fdca26\"],[1.0,\"#f0f921\"]],\"type\":\"surface\"}],\"table\":[{\"cells\":{\"fill\":{\"color\":\"#506784\"},\"line\":{\"color\":\"rgb(17,17,17)\"}},\"header\":{\"fill\":{\"color\":\"#2a3f5f\"},\"line\":{\"color\":\"rgb(17,17,17)\"}},\"type\":\"table\"}]},\"layout\":{\"annotationdefaults\":{\"arrowcolor\":\"#f2f5fa\",\"arrowhead\":0,\"arrowwidth\":1},\"autotypenumbers\":\"strict\",\"coloraxis\":{\"colorbar\":{\"outlinewidth\":0,\"ticks\":\"\"}},\"colorscale\":{\"diverging\":[[0,\"#8e0152\"],[0.1,\"#c51b7d\"],[0.2,\"#de77ae\"],[0.3,\"#f1b6da\"],[0.4,\"#fde0ef\"],[0.5,\"#f7f7f7\"],[0.6,\"#e6f5d0\"],[0.7,\"#b8e186\"],[0.8,\"#7fbc41\"],[0.9,\"#4d9221\"],[1,\"#276419\"]],\"sequential\":[[0.0,\"#0d0887\"],[0.1111111111111111,\"#46039f\"],[0.2222222222222222,\"#7201a8\"],[0.3333333333333333,\"#9c179e\"],[0.4444444444444444,\"#bd3786\"],[0.5555555555555556,\"#d8576b\"],[0.6666666666666666,\"#ed7953\"],[0.7777777777777778,\"#fb9f3a\"],[0.8888888888888888,\"#fdca26\"],[1.0,\"#f0f921\"]],\"sequentialminus\":[[0.0,\"#0d0887\"],[0.1111111111111111,\"#46039f\"],[0.2222222222222222,\"#7201a8\"],[0.3333333333333333,\"#9c179e\"],[0.4444444444444444,\"#bd3786\"],[0.5555555555555556,\"#d8576b\"],[0.6666666666666666,\"#ed7953\"],[0.7777777777777778,\"#fb9f3a\"],[0.8888888888888888,\"#fdca26\"],[1.0,\"#f0f921\"]]},\"colorway\":[\"#636efa\",\"#EF553B\",\"#00cc96\",\"#ab63fa\",\"#FFA15A\",\"#19d3f3\",\"#FF6692\",\"#B6E880\",\"#FF97FF\",\"#FECB52\"],\"font\":{\"color\":\"#f2f5fa\"},\"geo\":{\"bgcolor\":\"rgb(17,17,17)\",\"lakecolor\":\"rgb(17,17,17)\",\"landcolor\":\"rgb(17,17,17)\",\"showlakes\":true,\"showland\":true,\"subunitcolor\":\"#506784\"},\"hoverlabel\":{\"align\":\"left\"},\"hovermode\":\"closest\",\"mapbox\":{\"style\":\"dark\"},\"paper_bgcolor\":\"rgb(17,17,17)\",\"plot_bgcolor\":\"rgb(17,17,17)\",\"polar\":{\"angularaxis\":{\"gridcolor\":\"#506784\",\"linecolor\":\"#506784\",\"ticks\":\"\"},\"bgcolor\":\"rgb(17,17,17)\",\"radialaxis\":{\"gridcolor\":\"#506784\",\"linecolor\":\"#506784\",\"ticks\":\"\"}},\"scene\":{\"xaxis\":{\"backgroundcolor\":\"rgb(17,17,17)\",\"gridcolor\":\"#506784\",\"gridwidth\":2,\"linecolor\":\"#506784\",\"showbackground\":true,\"ticks\":\"\",\"zerolinecolor\":\"#C8D4E3\"},\"yaxis\":{\"backgroundcolor\":\"rgb(17,17,17)\",\"gridcolor\":\"#506784\",\"gridwidth\":2,\"linecolor\":\"#506784\",\"showbackground\":true,\"ticks\":\"\",\"zerolinecolor\":\"#C8D4E3\"},\"zaxis\":{\"backgroundcolor\":\"rgb(17,17,17)\",\"gridcolor\":\"#506784\",\"gridwidth\":2,\"linecolor\":\"#506784\",\"showbackground\":true,\"ticks\":\"\",\"zerolinecolor\":\"#C8D4E3\"}},\"shapedefaults\":{\"line\":{\"color\":\"#f2f5fa\"}},\"sliderdefaults\":{\"bgcolor\":\"#C8D4E3\",\"bordercolor\":\"rgb(17,17,17)\",\"borderwidth\":1,\"tickwidth\":0},\"ternary\":{\"aaxis\":{\"gridcolor\":\"#506784\",\"linecolor\":\"#506784\",\"ticks\":\"\"},\"baxis\":{\"gridcolor\":\"#506784\",\"linecolor\":\"#506784\",\"ticks\":\"\"},\"bgcolor\":\"rgb(17,17,17)\",\"caxis\":{\"gridcolor\":\"#506784\",\"linecolor\":\"#506784\",\"ticks\":\"\"}},\"title\":{\"x\":0.05},\"updatemenudefaults\":{\"bgcolor\":\"#506784\",\"borderwidth\":0},\"xaxis\":{\"automargin\":true,\"gridcolor\":\"#283442\",\"linecolor\":\"#506784\",\"ticks\":\"\",\"title\":{\"standoff\":15},\"zerolinecolor\":\"#283442\",\"zerolinewidth\":2},\"yaxis\":{\"automargin\":true,\"gridcolor\":\"#283442\",\"linecolor\":\"#506784\",\"ticks\":\"\",\"title\":{\"standoff\":15},\"zerolinecolor\":\"#283442\",\"zerolinewidth\":2}}},\"scene\":{\"xaxis\":{\"title\":{\"text\":\"\"},\"nticks\":0,\"range\":[-3.3000000000000003,8.8],\"ticktext\":[\"\"],\"tickvals\":[0.0],\"visible\":false},\"yaxis\":{\"title\":{\"text\":\"\"},\"nticks\":0,\"range\":[-3.3000000000000003,8.8],\"ticktext\":[\"\"],\"tickvals\":[0.0],\"visible\":false},\"zaxis\":{\"title\":{\"text\":\"\"},\"nticks\":0,\"range\":[-3.3000000000000003,8.8],\"ticktext\":[\"\"],\"tickvals\":[0.0],\"visible\":false},\"camera\":{\"eye\":{\"x\":1.5,\"y\":0.8,\"z\":0.6}},\"annotations\":[{\"font\":{\"color\":\"rgba(255, 210, 0, 60)\",\"size\":40},\"opacity\":1.0,\"showarrow\":false,\"text\":\"$X$\",\"x\":8.8,\"xanchor\":\"left\",\"xshift\":0,\"y\":0.2,\"z\":0.2},{\"font\":{\"color\":\"rgba(255, 210, 0, 60)\",\"size\":40},\"opacity\":1.0,\"showarrow\":false,\"text\":\"$Y$\",\"x\":0.2,\"xanchor\":\"left\",\"xshift\":0,\"y\":8.8,\"z\":0.2},{\"font\":{\"color\":\"rgba(255, 210, 0, 60)\",\"size\":40},\"opacity\":1.0,\"showarrow\":false,\"text\":\"$Z$\",\"x\":0.2,\"xanchor\":\"left\",\"xshift\":0,\"y\":0.2,\"z\":8.8},{\"font\":{\"color\":\"rgba(0, 191, 255, 60)\",\"size\":50},\"opacity\":1.0,\"showarrow\":false,\"text\":\"$\\\\vec{P}$\",\"x\":2.2,\"xanchor\":\"center\",\"y\":1.2,\"z\":-2.8},{\"font\":{\"color\":\"rgba(238, 130, 238, 60)\",\"size\":50},\"opacity\":1.0,\"showarrow\":false,\"text\":\"$\\\\vec{Q}$\",\"x\":-0.8,\"xanchor\":\"center\",\"y\":2.2,\"z\":2.2},{\"font\":{\"color\":\"rgba(255, 255, 255, 60)\",\"size\":60},\"opacity\":1.0,\"showarrow\":false,\"text\":\"$\\\\vec{R}=(8.0,-1.0,5.0)$\",\"x\":7.465477516175151,\"xanchor\":\"center\",\"y\":-1.2672612419124243,\"z\":5.801783725737273}]},\"width\":600,\"height\":600},                        {\"responsive\": true}                    ).then(function(){\n",
       "                            \n",
       "var gd = document.getElementById('0e858557-0aef-4281-8580-e9e4f7325775');\n",
       "var x = new MutationObserver(function (mutations, observer) {{\n",
       "        var display = window.getComputedStyle(gd).display;\n",
       "        if (!display || display === 'none') {{\n",
       "            console.log([gd, 'removed!']);\n",
       "            Plotly.purge(gd);\n",
       "            observer.disconnect();\n",
       "        }}\n",
       "}});\n",
       "\n",
       "// Listen for the removal of the full notebook cells\n",
       "var notebookContainer = gd.closest('#notebook-container');\n",
       "if (notebookContainer) {{\n",
       "    x.observe(notebookContainer, {childList: true});\n",
       "}}\n",
       "\n",
       "// Listen for the clearing of the current output cell\n",
       "var outputEl = gd.closest('.output');\n",
       "if (outputEl) {{\n",
       "    x.observe(outputEl, {childList: true});\n",
       "}}\n",
       "\n",
       "                        })                };                });            </script>        </div>"
      ]
     },
     "metadata": {},
     "output_type": "display_data"
    }
   ],
   "source": [
    "# Colores de los elementos a graficar\n",
    "ColorP = 'rgba(0, 191, 255, 60)'\n",
    "ColorQ = 'rgba(238, 130, 238, 60)'\n",
    "ColorR = 'rgba(255, 255, 255, 60)'\n",
    "TextoR = r\"$\\vec{{R}}=({0:.1f},{1:.1f},{2:.1f})$\".format(R[0],R[1],R[2])\n",
    "ColorEjes = 'rgba(255, 210, 0, 60)'\n",
    "\n",
    "# Parámetros para ajustar la graficación\n",
    "vecs     = column_stack((P,Q,R))\n",
    "ValorMax = vecs.max()*1.1 # Máximo en los ejes\n",
    "ValorMin = vecs.min()*1.1 # Mínimo en los ejes\n",
    "# Tamaños de las puntas de los vectores\n",
    "Tip   = 1.0\n",
    "Shift = 0.2*Tip\n",
    "ShiftR = 1*Tip\n",
    "# Dirección de los vectores\n",
    "Punit = P/sqrt(dot(P,P))\n",
    "Qunit = Q/sqrt(dot(Q,Q))\n",
    "Runit = R/sqrt(dot(R,R))\n",
    "\n",
    "# Vector P\n",
    "TipP = go.Cone(x=[P[0]],y=[P[1]],z=[P[2]],\n",
    "               u=[Tip*Punit[0]],v=[Tip*Punit[1]],w=[Tip*Punit[2]],\n",
    "               colorscale=[[0, ColorP],[1.0, ColorP]],\n",
    "               sizemode=\"absolute\",\n",
    "               sizeref=1.0,\n",
    "               anchor=\"tip\",\n",
    "               showscale=False)\n",
    "VecP = go.Scatter3d(x=[0,P[0]-Tip*Punit[0]],\n",
    "                    y=[0,P[1]-Tip*Punit[1]],\n",
    "                    z=[0,P[2]-Tip*Punit[2]],\n",
    "                    mode=\"lines\",showlegend=False,\n",
    "                    line=dict(width=10,color=ColorP))\n",
    "# Vector Q\n",
    "TipQ = go.Cone(x=[Q[0]],y=[Q[1]],z=[Q[2]],\n",
    "               u=[Tip*Qunit[0]],v=[Tip*Qunit[1]],w=[Tip*Qunit[2]],\n",
    "               colorscale=[[0, ColorQ],[1.0, ColorQ]],\n",
    "               sizemode=\"absolute\",\n",
    "               sizeref=1.0,\n",
    "               anchor=\"tip\",\n",
    "               showscale=False)\n",
    "VecQ = go.Scatter3d(x=[0,Q[0]-Tip*Qunit[0]],\n",
    "                    y=[0,Q[1]-Tip*Qunit[1]],\n",
    "                    z=[0,Q[2]-Tip*Qunit[2]],\n",
    "                    mode=\"lines\",showlegend=False,\n",
    "                    line=dict(width=10,color=ColorQ))\n",
    "# Vector R\n",
    "TipR = go.Cone(x=[R[0]],y=[R[1]],z=[R[2]],\n",
    "               u=[Tip*Runit[0]],v=[Tip*Runit[1]],w=[Tip*Runit[2]],\n",
    "               colorscale=[[0, ColorR],[1.0, ColorR]],\n",
    "               sizemode=\"absolute\",\n",
    "               sizeref=1.0,\n",
    "               anchor=\"tip\",\n",
    "               showscale=False)\n",
    "VecR = go.Scatter3d(x=[0,R[0]-Tip*Runit[0]],\n",
    "                    y=[0,R[1]-Tip*Runit[1]],\n",
    "                    z=[0,R[2]-Tip*Runit[2]],\n",
    "                    mode=\"lines\",showlegend=False,\n",
    "                    line=dict(width=10,color=ColorR))\n",
    "# Puntas de los ejes\n",
    "ConosEjes = go.Cone( x = [ValorMax,0,0],\n",
    "                     y = [0,ValorMax,0],\n",
    "                     z = [0,0,ValorMax],\n",
    "                     u = [Tip, 0, 0],\n",
    "                     v = [0, Tip, 0],\n",
    "                     w = [0, 0, Tip],\n",
    "                     colorscale=[[0, ColorEjes],[1.0, ColorEjes]],\n",
    "                     sizemode=\"absolute\",\n",
    "                     sizeref=0.1,\n",
    "                     anchor=\"tip\",\n",
    "                     showscale=False)\n",
    "# Eje x\n",
    "Eje_x = go.Scatter3d(x = [ValorMin,ValorMax-Tip],\n",
    "                     y = [0,0],\n",
    "                     z = [0,0],\n",
    "                     mode = 'lines',\n",
    "                     showlegend = False,\n",
    "                     line = dict(width = 6,\n",
    "                                 color = ColorEjes))\n",
    "# Eje y\n",
    "Eje_y = go.Scatter3d(x = [0,0],\n",
    "                     y = [ValorMin,ValorMax-Tip],\n",
    "                     z = [0,0],\n",
    "                     mode = 'lines',\n",
    "                     showlegend = False,\n",
    "                     line = dict(width = 6,\n",
    "                                 color = ColorEjes))\n",
    "# Eje z\n",
    "Eje_z = go.Scatter3d(x = [0,0],\n",
    "                     y = [0,0],\n",
    "                     z = [ValorMin,ValorMax-Tip],\n",
    "                     mode = 'lines',\n",
    "                     showlegend = False,\n",
    "                     line = dict(width = 6,\n",
    "                                 color = ColorEjes)) \n",
    "# --------------------------------------------------\n",
    "# Graficación de los diferentes elementos\n",
    "fig = go.Figure(data=[ConosEjes,Eje_x,Eje_y,Eje_z,\n",
    "                      TipP,VecP,\n",
    "                      TipQ,VecQ,\n",
    "                      TipR,VecR])\n",
    "# Ajustes de la escena\n",
    "fig.update_layout( \\\n",
    "# - begin scene                  \n",
    "scene = dict(xaxis_title='',yaxis_title='',zaxis_title='',\n",
    "    xaxis = dict(nticks=0, range=[ValorMin,ValorMax],ticktext=[\"\"],tickvals= [0.0],visible=False),\n",
    "    yaxis = dict(nticks=0, range=[ValorMin,ValorMax],ticktext=[\"\"],tickvals= [0.0],visible=False),\n",
    "    zaxis = dict(nticks=0, range=[ValorMin,ValorMax],ticktext=[\"\"],tickvals= [0.0],visible=False),\n",
    "    camera_eye=dict(x=1.5, y=0.8, z=0.6),\n",
    "    annotations=[\\\n",
    "      dict(showarrow=False, x=ValorMax, y=Shift, z=Shift,\n",
    "           text=\"$X$\",xanchor=\"left\",xshift=0,\n",
    "           opacity=1.0,font=dict(size=40,color = ColorEjes) ),\n",
    "      dict(showarrow=False, x=Shift,y=ValorMax,z=Shift,\n",
    "           text=\"$Y$\",xanchor=\"left\",xshift=0,\n",
    "           opacity=1.0,font=dict(size=40,color = ColorEjes) ),\n",
    "      dict(showarrow=False, x=Shift,y=Shift,z=ValorMax,\n",
    "           text=\"$Z$\",xanchor=\"left\",xshift=0,\n",
    "           opacity=1.0,font=dict(size=40,color = ColorEjes)),\n",
    "      dict(showarrow=False,x=P[0]+Shift,y=P[1]+Shift,z=P[2]+Shift,\n",
    "           text=r\"$\\vec{P}$\",xanchor=\"center\",\n",
    "           opacity=1.0,font=dict(size=50,color=ColorP)),\n",
    "      dict(showarrow=False,x=Q[0]+Shift,y=Q[1]+Shift,z=Q[2]+Shift,\n",
    "           text=r\"$\\vec{Q}$\",xanchor=\"center\",\n",
    "           opacity=1.0,font=dict(size=50,color=ColorQ)),\n",
    "      dict(showarrow=False,\n",
    "           x=R[0]-ShiftR*Punit[0],\n",
    "           y=R[1]-ShiftR*Punit[1],\n",
    "           z=R[2]-ShiftR*Punit[2],\n",
    "           text=TextoR,\n",
    "           xanchor=\"center\",\n",
    "           opacity=1.0,font=dict(size=60,color=ColorR))\n",
    "    ]), \n",
    "# - end scene\n",
    "template=\"plotly_dark\",\n",
    "width = 600, height= 600)\n",
    "\n",
    "# Mostrar la gráfica\n",
    "fig.show()"
   ]
  },
  {
   "cell_type": "code",
   "execution_count": null,
   "metadata": {},
   "outputs": [],
   "source": []
  },
  {
   "cell_type": "code",
   "execution_count": null,
   "metadata": {},
   "outputs": [],
   "source": []
  }
 ],
 "metadata": {
  "celltoolbar": "Edit Metadata",
  "colab": {
   "collapsed_sections": [],
   "name": "SUMAcone.ipynb",
   "provenance": []
  },
  "kernelspec": {
   "display_name": "Python 3 (ipykernel)",
   "language": "python",
   "name": "python3"
  },
  "language_info": {
   "codemirror_mode": {
    "name": "ipython",
    "version": 3
   },
   "file_extension": ".py",
   "mimetype": "text/x-python",
   "name": "python",
   "nbconvert_exporter": "python",
   "pygments_lexer": "ipython3",
   "version": "3.7.0"
  }
 },
 "nbformat": 4,
 "nbformat_minor": 1
}
